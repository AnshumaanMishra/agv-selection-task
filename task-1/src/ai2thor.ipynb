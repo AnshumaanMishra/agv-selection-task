{
 "cells": [
  {
   "cell_type": "markdown",
   "metadata": {},
   "source": [
    "# AI2THOR Tutorial "
   ]
  },
  {
   "cell_type": "code",
   "execution_count": 2,
   "metadata": {},
   "outputs": [],
   "source": [
    "from ai2thor.controller import Controller\n",
    "import time"
   ]
  },
  {
   "cell_type": "code",
   "execution_count": 3,
   "metadata": {},
   "outputs": [],
   "source": [
    "def start():\n",
    "    controller = Controller(\n",
    "        agentMode=\"default\",\n",
    "        visibilityDistance=1.5,\n",
    "        scene=\"FloorPlan212\",\n",
    "\n",
    "        # step sizes\n",
    "        gridSize=0.25,\n",
    "        snapToGrid=False,\n",
    "        rotateStepDegrees=10,\n",
    "\n",
    "        # image modalities\n",
    "        renderDepthImage=False,\n",
    "        renderInstanceSegmentation=False,\n",
    "\n",
    "        # camera properties\n",
    "        width=800,\n",
    "        height=800,\n",
    "        fieldOfView=90\n",
    "    )\n",
    "    return controller"
   ]
  },
  {
   "cell_type": "code",
   "execution_count": 5,
   "metadata": {},
   "outputs": [],
   "source": [
    "controller = start()\n",
    "time.sleep(1)\n",
    "# controller.step(\"PausePhysicsAutoSim\")\n",
    "for i in range(9):\n",
    "    controller.step(\n",
    "        action=\"MoveLeft\",\n",
    "    )\n",
    "\n",
    "    time.sleep(1)"
   ]
  },
  {
   "cell_type": "code",
   "execution_count": null,
   "metadata": {},
   "outputs": [
    {
     "ename": "NameError",
     "evalue": "name 'Controller' is not defined",
     "output_type": "error",
     "traceback": [
      "\u001b[31m---------------------------------------------------------------------------\u001b[39m",
      "\u001b[31mNameError\u001b[39m                                 Traceback (most recent call last)",
      "\u001b[36mCell\u001b[39m\u001b[36m \u001b[39m\u001b[32mIn[1]\u001b[39m\u001b[32m, line 1\u001b[39m\n\u001b[32m----> \u001b[39m\u001b[32m1\u001b[39m controller = \u001b[43mController\u001b[49m()\n\u001b[32m      2\u001b[39m controller.start()\n\u001b[32m      4\u001b[39m \u001b[38;5;66;03m# Kitchens: FloorPlan1 - FloorPlan30\u001b[39;00m\n\u001b[32m      5\u001b[39m \u001b[38;5;66;03m# Living rooms: FloorPlan201 - FloorPlan230\u001b[39;00m\n\u001b[32m      6\u001b[39m \u001b[38;5;66;03m# Bedrooms: FloorPlan301 - FloorPlan330\u001b[39;00m\n\u001b[32m      7\u001b[39m \u001b[38;5;66;03m# Bathrooms: FloorPLan401 - FloorPlan430\u001b[39;00m\n",
      "\u001b[31mNameError\u001b[39m: name 'Controller' is not defined"
     ]
    }
   ],
   "source": [
    "controller = Controller()\n",
    "controller.start()\n",
    "\n",
    "# Kitchens: FloorPlan1 - FloorPlan30\n",
    "# Living rooms: FloorPlan201 - FloorPlan230\n",
    "# Bedrooms: FloorPlan301 - FloorPlan330\n",
    "# Bathrooms: FloorPLan401 - FloorPlan430\n",
    "\n",
    "controller.reset('FloorPlan28')\n",
    "controller.step(dict(action='Initialize', gridSize=0.25))\n",
    "\n",
    "event = controller.step(dict(action='MoveAhead'))\n",
    "\n",
    "# Numpy Array - shape (width, height, channels), channels are in RGB order\n",
    "event.frame\n",
    "\n",
    "# Numpy Array in BGR order suitable for use with OpenCV\n",
    "event.cv2image()\n",
    "\n",
    "# current metadata dictionary that includes the state of the scene\n",
    "event.metadata"
   ]
  },
  {
   "cell_type": "code",
   "execution_count": null,
   "metadata": {},
   "outputs": [],
   "source": []
  }
 ],
 "metadata": {
  "kernelspec": {
   "display_name": "agv-task-1",
   "language": "python",
   "name": "python3"
  },
  "language_info": {
   "codemirror_mode": {
    "name": "ipython",
    "version": 3
   },
   "file_extension": ".py",
   "mimetype": "text/x-python",
   "name": "python",
   "nbconvert_exporter": "python",
   "pygments_lexer": "ipython3",
   "version": "3.11.11"
  }
 },
 "nbformat": 4,
 "nbformat_minor": 2
}
